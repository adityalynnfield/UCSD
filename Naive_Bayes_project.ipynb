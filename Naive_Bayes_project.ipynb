{
  "nbformat": 4,
  "nbformat_minor": 0,
  "metadata": {
    "colab": {
      "provenance": [],
      "collapsed_sections": [
        "o2pDknYtAqcY"
      ]
    },
    "kernelspec": {
      "name": "python3",
      "display_name": "Python 3"
    },
    "language_info": {
      "name": "python"
    }
  },
  "cells": [
    {
      "cell_type": "markdown",
      "source": [
        "**Copyright: © NexStream Technical Education, LLC**.\n",
        "All rights reserved"
      ],
      "metadata": {
        "id": "AdLjCMeS5O4P"
      }
    },
    {
      "cell_type": "markdown",
      "source": [
        "#Bayes Theorem - Part 1\n",
        "\n",
        "Create a Colab script which calculates P(A|B) using Bayes theorem for the example provided in the lecture; that is, if you test positive how probable is it that you have cancer?\n",
        "- Create a Python script to implement the bayes_theorem function\n",
        "- Create a runner to call your function and output the result, P(A|B) for the following\n",
        "Cases:\n",
        "-  Case 1: Cancer occurs in 1% of the people your age and the test is 99% reliable\n",
        "-  Case 2: Cancer occurs in 3% of the people your age and the test is 90% reliable\n",
        "-  Repeat the tests 3 times each (using your previous P(A|B) result in the\n",
        "subsequent run) and record P(A|B) for each repeated test. How did your results\n",
        "improve with each additional test run?\n",
        "\n",
        "Summary of the lecture example:\n",
        "- P(A):  probability you have cancer prior to getting tested (called the 'belief')\n",
        "- P(B):  probability you test positive  (called the 'evidence')\n",
        "- P(A|B):  probability you have cancer given the test is positive\n",
        "\n",
        "- Bayes Theorem:\n",
        "$$P(A|B)=\\frac{P(B|A)\\cdot P(A)}{P(B)}$$\n",
        "\n",
        "<br>\n",
        "\n",
        "**def bayes_theorem(p_a, p_b_given_a):**\n",
        "- Inputs:\n",
        "  - *p_a* = probability of event 'a', e.g., you have cancer prior to getting tested\n",
        "  - *p_b_given_a* = probability of event 'b' given event 'a' has occurred, e.g. the probability that you test positive given you have cancer.\n",
        "- return *p_a_given_b* = probability of event 'a' given event 'b', e.g. the probability that you have cancer given you test positive, *p_b* (for test purposes).\n",
        "\n",
        "<br>\n",
        "\n",
        "Follow the steps as outlined in the following code cell to implement the functions.  Make sure your code passes the embedded doctests.\n"
      ],
      "metadata": {
        "id": "tdXJjvNtdeKy"
      }
    },
    {
      "cell_type": "code",
      "source": [
        "#In-class assignment in Bayes lecture\n",
        "#If you test positive how probable is it that you have cancer?\n",
        "import numpy as np\n",
        "\n",
        "\n",
        "#Calculate P(A|B) given P(A), P(B|A)\n",
        "#    Hint:  calculate false_positives, true_positives, and P(B)\n",
        "#           then can use Bayes theorem to calculate P(A|B)\n",
        "\n",
        "def bayes_theorem(p_a, p_b_given_a):\n",
        "  #YOUR CODE HERE\n",
        "  p_b = p_b_given_a * p_a + (1 - p_a) * (1 - p_b_given_a)\n",
        "\n",
        "  p_a_given_b = (p_b_given_a * p_a) / p_b\n",
        "\n",
        "  return p_b, p_a_given_b\n",
        "\n",
        "\n",
        "\n",
        "\n",
        "#-------------------------------------------------------------------------------------------------\n",
        "#Test with the following doctest test vectors.\n",
        "#DO NOT EDIT THE TEST CODE!!!!\n",
        "\n",
        "#Scenario and definitions\n",
        "#   P(A):  probability that event (e.g. cancer) occurs in % of population (belief)\n",
        "#   P(B):  probability test is positive (evidence)\n",
        "#   P(B|A):  probability test is positive if event occurs, i.e. reliability of test\n",
        "#            when multiply by P(A) then get the rate of true positives\n",
        "#   P(B|not A): probability test is positive if event does not occur\n",
        "#            when multiply by P(not A) then get the rate of false positives\n",
        "\n",
        "#Case 1.  Cancer occurs in 1% of the people your age and the test is 99% reliable\n",
        "#Case 2.  Cancer occurs in 3% of the people your age and the test is 90% reliable\n",
        "\n",
        "def bayes_runner(p_a, p_b_given_a, iterations):\n",
        "  pagb_list = []\n",
        "  pb_list = []\n",
        "  for i in range(iterations):\n",
        "    p_b, p_a_given_b = bayes_theorem(p_a, p_b_given_a)\n",
        "    p_a = p_a_given_b\n",
        "    pagb_list.append(p_a_given_b)\n",
        "    pb_list.append(p_b)\n",
        "  return pb_list, pagb_list\n",
        "\n",
        "#Case 1.  Cancer occurs in 1% of the people your age and the test is 99% reliable\n",
        "pb_1, pagb_1 = bayes_runner(0.01, 0.99, 3)\n",
        "\n",
        "#Case 2.  Cancer occurs in 3% of the people your age and the test is 90% reliable\n",
        "pb_2, pagb_2 = bayes_runner(0.03, 0.90, 3)\n",
        "\n",
        "import doctest\n",
        "\"\"\"\n",
        "   >>> print(np.round(pagb_1, 4))\n",
        "   [0.5    0.99   0.9999]\n",
        "   >>> print(np.round(pb_1, 4))\n",
        "   [0.0198 0.5    0.9802]\n",
        "   >>> print(np.round(pagb_2, 4))\n",
        "   [0.2177 0.7147 0.9575]\n",
        "   >>> print(np.round(pb_2, 4))\n",
        "   [0.124  0.2742 0.6718]\n",
        "\"\"\"\n",
        "doctest.testmod()\n"
      ],
      "metadata": {
        "id": "CwNgUJLCtnO5",
        "colab": {
          "base_uri": "https://localhost:8080/"
        },
        "outputId": "3204f66d-05fa-4215-de01-39f39308d119"
      },
      "execution_count": null,
      "outputs": [
        {
          "output_type": "stream",
          "name": "stderr",
          "text": [
            "\n",
            "PYDEV DEBUGGER WARNING:\n",
            "sys.settrace() should not be used when the debugger is being used.\n",
            "This may cause the debugger to stop working correctly.\n",
            "If this is needed, please check: \n",
            "http://pydev.blogspot.com/2007/06/why-cant-pydev-debugger-work-with.html\n",
            "to see how to restore the debug tracing back correctly.\n",
            "Call Location:\n",
            "  File \"/usr/lib/python3.10/doctest.py\", line 1501, in run\n",
            "    sys.settrace(save_trace)\n",
            "\n"
          ]
        },
        {
          "output_type": "execute_result",
          "data": {
            "text/plain": [
              "TestResults(failed=0, attempted=4)"
            ]
          },
          "metadata": {},
          "execution_count": 1
        }
      ]
    },
    {
      "cell_type": "markdown",
      "source": [
        "# Naive Bayes Monomial Classifier - Part 2\n",
        "\n",
        "Create a Colab script which uses a Naive Bayes classifier to detect email spam messages. Note, you may NOT use any machine learning libraries (e.g. sklearn) for this section.\n",
        "- Create a training set of Wanted and Unwanted messages\n",
        "- Create your 'model'\n",
        " - Parse the words in the emails and create conditional probabilities for the Wanted\n",
        "and Unwanted messages\n",
        "- Test your model with other messages not used in the training set\n",
        "- Record and reflect on your results, i.e. evaluate the performance, and compare against\n",
        "typical performance of the algorithm (do some searches to find the average performance\n",
        "of a Naive Bayes based spam filter).\n",
        "- A training dataset has been provided as materials for this assignment. You may find another, or scrape your own emails if you prefer - just describe what dataset you used or created in your reflections.\n",
        "\n",
        "\n",
        "<br>\n",
        "\n",
        "- Follow the steps as outlined in the following code cells to implement the functions.\n",
        "- Record your comments and reflections for this part in a text cell at the end of this section.\n",
        "\n"
      ],
      "metadata": {
        "id": "c4ApW3n5qS3J"
      }
    },
    {
      "cell_type": "code",
      "source": [
        "#Mount your google drive and copy the dataset to the current working directory (!cp),\n",
        "#or change the working directory to the folder (%cd).\n",
        "from google.colab import drive\n",
        "drive.mount('/content/drive')\n",
        "%cd /content/drive/My Drive/content/\n",
        "\n"
      ],
      "metadata": {
        "id": "TnSLWP7PrVhJ",
        "colab": {
          "base_uri": "https://localhost:8080/"
        },
        "outputId": "b6ca633c-3754-4b51-fc12-3a1af080cefa"
      },
      "execution_count": null,
      "outputs": [
        {
          "output_type": "stream",
          "name": "stdout",
          "text": [
            "Mounted at /content/drive\n",
            "/content/drive/My Drive/content\n"
          ]
        }
      ]
    },
    {
      "cell_type": "code",
      "source": [
        "#Read the dataset as a Pandas dataframe.\n",
        "#and examine the head of the file.\n",
        "#An example is shown for the provided dataset.\n",
        "#This code assumes the dataset csv file is in the working directory.\n",
        "\n",
        "import pandas as pd\n",
        "\n",
        "df = pd.read_csv('/content/spam_training_dataset_2 (1).csv')\n",
        "df.head(10)"
      ],
      "metadata": {
        "id": "WzByC_duqUEf",
        "colab": {
          "base_uri": "https://localhost:8080/",
          "height": 363
        },
        "outputId": "2d308164-9ffb-4b16-9351-cb720bc1ee09"
      },
      "execution_count": null,
      "outputs": [
        {
          "output_type": "execute_result",
          "data": {
            "text/plain": [
              "  label                                               text\n",
              "0   ham  Go until jurong point, crazy.. Available only ...\n",
              "1   ham                      Ok lar... Joking wif u oni...\n",
              "2  spam  Free entry in 2 a wkly comp to win FA Cup fina...\n",
              "3   ham  U dun say so early hor... U c already then say...\n",
              "4   ham  Nah I don't think he goes to usf, he lives aro...\n",
              "5  spam  FreeMsg Hey there darling it's been 3 week's n...\n",
              "6   ham  Even my brother is not like to speak with me. ...\n",
              "7   ham  As per your request 'Melle Melle (Oru Minnamin...\n",
              "8  spam  WINNER!! As a valued network customer you have...\n",
              "9  spam  Had your mobile 11 months or more? U R entitle..."
            ],
            "text/html": [
              "\n",
              "  <div id=\"df-673f786d-1694-4889-b850-d1c20e92d157\" class=\"colab-df-container\">\n",
              "    <div>\n",
              "<style scoped>\n",
              "    .dataframe tbody tr th:only-of-type {\n",
              "        vertical-align: middle;\n",
              "    }\n",
              "\n",
              "    .dataframe tbody tr th {\n",
              "        vertical-align: top;\n",
              "    }\n",
              "\n",
              "    .dataframe thead th {\n",
              "        text-align: right;\n",
              "    }\n",
              "</style>\n",
              "<table border=\"1\" class=\"dataframe\">\n",
              "  <thead>\n",
              "    <tr style=\"text-align: right;\">\n",
              "      <th></th>\n",
              "      <th>label</th>\n",
              "      <th>text</th>\n",
              "    </tr>\n",
              "  </thead>\n",
              "  <tbody>\n",
              "    <tr>\n",
              "      <th>0</th>\n",
              "      <td>ham</td>\n",
              "      <td>Go until jurong point, crazy.. Available only ...</td>\n",
              "    </tr>\n",
              "    <tr>\n",
              "      <th>1</th>\n",
              "      <td>ham</td>\n",
              "      <td>Ok lar... Joking wif u oni...</td>\n",
              "    </tr>\n",
              "    <tr>\n",
              "      <th>2</th>\n",
              "      <td>spam</td>\n",
              "      <td>Free entry in 2 a wkly comp to win FA Cup fina...</td>\n",
              "    </tr>\n",
              "    <tr>\n",
              "      <th>3</th>\n",
              "      <td>ham</td>\n",
              "      <td>U dun say so early hor... U c already then say...</td>\n",
              "    </tr>\n",
              "    <tr>\n",
              "      <th>4</th>\n",
              "      <td>ham</td>\n",
              "      <td>Nah I don't think he goes to usf, he lives aro...</td>\n",
              "    </tr>\n",
              "    <tr>\n",
              "      <th>5</th>\n",
              "      <td>spam</td>\n",
              "      <td>FreeMsg Hey there darling it's been 3 week's n...</td>\n",
              "    </tr>\n",
              "    <tr>\n",
              "      <th>6</th>\n",
              "      <td>ham</td>\n",
              "      <td>Even my brother is not like to speak with me. ...</td>\n",
              "    </tr>\n",
              "    <tr>\n",
              "      <th>7</th>\n",
              "      <td>ham</td>\n",
              "      <td>As per your request 'Melle Melle (Oru Minnamin...</td>\n",
              "    </tr>\n",
              "    <tr>\n",
              "      <th>8</th>\n",
              "      <td>spam</td>\n",
              "      <td>WINNER!! As a valued network customer you have...</td>\n",
              "    </tr>\n",
              "    <tr>\n",
              "      <th>9</th>\n",
              "      <td>spam</td>\n",
              "      <td>Had your mobile 11 months or more? U R entitle...</td>\n",
              "    </tr>\n",
              "  </tbody>\n",
              "</table>\n",
              "</div>\n",
              "    <div class=\"colab-df-buttons\">\n",
              "\n",
              "  <div class=\"colab-df-container\">\n",
              "    <button class=\"colab-df-convert\" onclick=\"convertToInteractive('df-673f786d-1694-4889-b850-d1c20e92d157')\"\n",
              "            title=\"Convert this dataframe to an interactive table.\"\n",
              "            style=\"display:none;\">\n",
              "\n",
              "  <svg xmlns=\"http://www.w3.org/2000/svg\" height=\"24px\" viewBox=\"0 -960 960 960\">\n",
              "    <path d=\"M120-120v-720h720v720H120Zm60-500h600v-160H180v160Zm220 220h160v-160H400v160Zm0 220h160v-160H400v160ZM180-400h160v-160H180v160Zm440 0h160v-160H620v160ZM180-180h160v-160H180v160Zm440 0h160v-160H620v160Z\"/>\n",
              "  </svg>\n",
              "    </button>\n",
              "\n",
              "  <style>\n",
              "    .colab-df-container {\n",
              "      display:flex;\n",
              "      gap: 12px;\n",
              "    }\n",
              "\n",
              "    .colab-df-convert {\n",
              "      background-color: #E8F0FE;\n",
              "      border: none;\n",
              "      border-radius: 50%;\n",
              "      cursor: pointer;\n",
              "      display: none;\n",
              "      fill: #1967D2;\n",
              "      height: 32px;\n",
              "      padding: 0 0 0 0;\n",
              "      width: 32px;\n",
              "    }\n",
              "\n",
              "    .colab-df-convert:hover {\n",
              "      background-color: #E2EBFA;\n",
              "      box-shadow: 0px 1px 2px rgba(60, 64, 67, 0.3), 0px 1px 3px 1px rgba(60, 64, 67, 0.15);\n",
              "      fill: #174EA6;\n",
              "    }\n",
              "\n",
              "    .colab-df-buttons div {\n",
              "      margin-bottom: 4px;\n",
              "    }\n",
              "\n",
              "    [theme=dark] .colab-df-convert {\n",
              "      background-color: #3B4455;\n",
              "      fill: #D2E3FC;\n",
              "    }\n",
              "\n",
              "    [theme=dark] .colab-df-convert:hover {\n",
              "      background-color: #434B5C;\n",
              "      box-shadow: 0px 1px 3px 1px rgba(0, 0, 0, 0.15);\n",
              "      filter: drop-shadow(0px 1px 2px rgba(0, 0, 0, 0.3));\n",
              "      fill: #FFFFFF;\n",
              "    }\n",
              "  </style>\n",
              "\n",
              "    <script>\n",
              "      const buttonEl =\n",
              "        document.querySelector('#df-673f786d-1694-4889-b850-d1c20e92d157 button.colab-df-convert');\n",
              "      buttonEl.style.display =\n",
              "        google.colab.kernel.accessAllowed ? 'block' : 'none';\n",
              "\n",
              "      async function convertToInteractive(key) {\n",
              "        const element = document.querySelector('#df-673f786d-1694-4889-b850-d1c20e92d157');\n",
              "        const dataTable =\n",
              "          await google.colab.kernel.invokeFunction('convertToInteractive',\n",
              "                                                    [key], {});\n",
              "        if (!dataTable) return;\n",
              "\n",
              "        const docLinkHtml = 'Like what you see? Visit the ' +\n",
              "          '<a target=\"_blank\" href=https://colab.research.google.com/notebooks/data_table.ipynb>data table notebook</a>'\n",
              "          + ' to learn more about interactive tables.';\n",
              "        element.innerHTML = '';\n",
              "        dataTable['output_type'] = 'display_data';\n",
              "        await google.colab.output.renderOutput(dataTable, element);\n",
              "        const docLink = document.createElement('div');\n",
              "        docLink.innerHTML = docLinkHtml;\n",
              "        element.appendChild(docLink);\n",
              "      }\n",
              "    </script>\n",
              "  </div>\n",
              "\n",
              "\n",
              "<div id=\"df-18f64e88-e8f2-4365-8c31-a331c2f4455b\">\n",
              "  <button class=\"colab-df-quickchart\" onclick=\"quickchart('df-18f64e88-e8f2-4365-8c31-a331c2f4455b')\"\n",
              "            title=\"Suggest charts\"\n",
              "            style=\"display:none;\">\n",
              "\n",
              "<svg xmlns=\"http://www.w3.org/2000/svg\" height=\"24px\"viewBox=\"0 0 24 24\"\n",
              "     width=\"24px\">\n",
              "    <g>\n",
              "        <path d=\"M19 3H5c-1.1 0-2 .9-2 2v14c0 1.1.9 2 2 2h14c1.1 0 2-.9 2-2V5c0-1.1-.9-2-2-2zM9 17H7v-7h2v7zm4 0h-2V7h2v10zm4 0h-2v-4h2v4z\"/>\n",
              "    </g>\n",
              "</svg>\n",
              "  </button>\n",
              "\n",
              "<style>\n",
              "  .colab-df-quickchart {\n",
              "      --bg-color: #E8F0FE;\n",
              "      --fill-color: #1967D2;\n",
              "      --hover-bg-color: #E2EBFA;\n",
              "      --hover-fill-color: #174EA6;\n",
              "      --disabled-fill-color: #AAA;\n",
              "      --disabled-bg-color: #DDD;\n",
              "  }\n",
              "\n",
              "  [theme=dark] .colab-df-quickchart {\n",
              "      --bg-color: #3B4455;\n",
              "      --fill-color: #D2E3FC;\n",
              "      --hover-bg-color: #434B5C;\n",
              "      --hover-fill-color: #FFFFFF;\n",
              "      --disabled-bg-color: #3B4455;\n",
              "      --disabled-fill-color: #666;\n",
              "  }\n",
              "\n",
              "  .colab-df-quickchart {\n",
              "    background-color: var(--bg-color);\n",
              "    border: none;\n",
              "    border-radius: 50%;\n",
              "    cursor: pointer;\n",
              "    display: none;\n",
              "    fill: var(--fill-color);\n",
              "    height: 32px;\n",
              "    padding: 0;\n",
              "    width: 32px;\n",
              "  }\n",
              "\n",
              "  .colab-df-quickchart:hover {\n",
              "    background-color: var(--hover-bg-color);\n",
              "    box-shadow: 0 1px 2px rgba(60, 64, 67, 0.3), 0 1px 3px 1px rgba(60, 64, 67, 0.15);\n",
              "    fill: var(--button-hover-fill-color);\n",
              "  }\n",
              "\n",
              "  .colab-df-quickchart-complete:disabled,\n",
              "  .colab-df-quickchart-complete:disabled:hover {\n",
              "    background-color: var(--disabled-bg-color);\n",
              "    fill: var(--disabled-fill-color);\n",
              "    box-shadow: none;\n",
              "  }\n",
              "\n",
              "  .colab-df-spinner {\n",
              "    border: 2px solid var(--fill-color);\n",
              "    border-color: transparent;\n",
              "    border-bottom-color: var(--fill-color);\n",
              "    animation:\n",
              "      spin 1s steps(1) infinite;\n",
              "  }\n",
              "\n",
              "  @keyframes spin {\n",
              "    0% {\n",
              "      border-color: transparent;\n",
              "      border-bottom-color: var(--fill-color);\n",
              "      border-left-color: var(--fill-color);\n",
              "    }\n",
              "    20% {\n",
              "      border-color: transparent;\n",
              "      border-left-color: var(--fill-color);\n",
              "      border-top-color: var(--fill-color);\n",
              "    }\n",
              "    30% {\n",
              "      border-color: transparent;\n",
              "      border-left-color: var(--fill-color);\n",
              "      border-top-color: var(--fill-color);\n",
              "      border-right-color: var(--fill-color);\n",
              "    }\n",
              "    40% {\n",
              "      border-color: transparent;\n",
              "      border-right-color: var(--fill-color);\n",
              "      border-top-color: var(--fill-color);\n",
              "    }\n",
              "    60% {\n",
              "      border-color: transparent;\n",
              "      border-right-color: var(--fill-color);\n",
              "    }\n",
              "    80% {\n",
              "      border-color: transparent;\n",
              "      border-right-color: var(--fill-color);\n",
              "      border-bottom-color: var(--fill-color);\n",
              "    }\n",
              "    90% {\n",
              "      border-color: transparent;\n",
              "      border-bottom-color: var(--fill-color);\n",
              "    }\n",
              "  }\n",
              "</style>\n",
              "\n",
              "  <script>\n",
              "    async function quickchart(key) {\n",
              "      const quickchartButtonEl =\n",
              "        document.querySelector('#' + key + ' button');\n",
              "      quickchartButtonEl.disabled = true;  // To prevent multiple clicks.\n",
              "      quickchartButtonEl.classList.add('colab-df-spinner');\n",
              "      try {\n",
              "        const charts = await google.colab.kernel.invokeFunction(\n",
              "            'suggestCharts', [key], {});\n",
              "      } catch (error) {\n",
              "        console.error('Error during call to suggestCharts:', error);\n",
              "      }\n",
              "      quickchartButtonEl.classList.remove('colab-df-spinner');\n",
              "      quickchartButtonEl.classList.add('colab-df-quickchart-complete');\n",
              "    }\n",
              "    (() => {\n",
              "      let quickchartButtonEl =\n",
              "        document.querySelector('#df-18f64e88-e8f2-4365-8c31-a331c2f4455b button');\n",
              "      quickchartButtonEl.style.display =\n",
              "        google.colab.kernel.accessAllowed ? 'block' : 'none';\n",
              "    })();\n",
              "  </script>\n",
              "</div>\n",
              "\n",
              "    </div>\n",
              "  </div>\n"
            ],
            "application/vnd.google.colaboratory.intrinsic+json": {
              "type": "dataframe",
              "variable_name": "df",
              "summary": "{\n  \"name\": \"df\",\n  \"rows\": 5563,\n  \"fields\": [\n    {\n      \"column\": \"label\",\n      \"properties\": {\n        \"dtype\": \"category\",\n        \"num_unique_values\": 2,\n        \"samples\": [\n          \"spam\",\n          \"ham\"\n        ],\n        \"semantic_type\": \"\",\n        \"description\": \"\"\n      }\n    },\n    {\n      \"column\": \"text\",\n      \"properties\": {\n        \"dtype\": \"string\",\n        \"num_unique_values\": 5147,\n        \"samples\": [\n          \"Ok then i will come to ur home after half an hour\",\n          \"Its ok..come to my home it vl nice to meet and v can chat..\"\n        ],\n        \"semantic_type\": \"\",\n        \"description\": \"\"\n      }\n    }\n  ]\n}"
            }
          },
          "metadata": {},
          "execution_count": 2
        }
      ]
    },
    {
      "cell_type": "code",
      "source": [
        "#Setup dataframes with 80% train and 20% test\n",
        "#An example is shown for the provided dataset.\n",
        "cutoff = int(len(df)*0.8)\n",
        "train = df[:cutoff]\n",
        "test = df[cutoff:]\n",
        "\n",
        "#Reset the indices of the test rows\n",
        "test.reset_index(drop=True, inplace=True)\n"
      ],
      "metadata": {
        "id": "wnGM8R3YuFHs"
      },
      "execution_count": null,
      "outputs": []
    },
    {
      "cell_type": "code",
      "source": [
        "#Train the model\n",
        "\n",
        "#Create empty dictionaries of ham (wanted), and spam (unwanted) messages.\n",
        "#This will create the histogram bins needed for ham and spam messages.\n",
        "#The dicts will set keys = email word, value = word frequency (count)\n",
        "ham = {}\n",
        "spam = {}\n",
        "\n",
        "#Loop over length of the training set\n",
        "for i in range(len(train)):\n",
        "\n",
        "  #Read an example (X) == row from the training set\n",
        "  #Hint:  https://pandas.pydata.org/docs/reference/api/pandas.DataFrame.loc.html\n",
        "  X = df.loc[i]\n",
        "\n",
        "  #If the exammple is ham (can get this from the 'label' or 'label_num' column)\n",
        "  #then set a reference to the ham dictionary, else set reference to spam dict.\n",
        "  if X.label == 'ham':\n",
        "    toAppend = ham\n",
        "  else:\n",
        "    toAppend = spam\n",
        "\n",
        "  #Loop over the words in the example.\n",
        "  #Hint: https://pandas.pydata.org/docs/reference/api/pandas.Series.str.split.html\n",
        "  #Hint: In this case str is the X.text field in the df\n",
        "  for word in X.text.split():\n",
        "\n",
        "    #Check for 'stopwords' by ignoring any words with length < X (try different lengths)\n",
        "    if len(word) > 2:\n",
        "      #Check if word is in the dictionary and increment count if so\n",
        "      #otherwise add the word to the dictionary and set the count to 1\n",
        "      if word in toAppend:\n",
        "        toAppend[word] += 1\n",
        "      else:\n",
        "        toAppend[word] = 1\n",
        "\n",
        "#Set the lengths for each of the ham and spam entries\n",
        "#so can calculate the probability of each word in the ham and spam histograms.\n",
        "lenHam = sum(ham.values())\n",
        "lenSpam = sum(spam.values())\n",
        "\n",
        "#Loop over each word and frequency in the dicts and calculate their weightings.\n",
        "#Hint:  https://docs.python.org/3/tutorial/datastructures.html#dictionaries (Looping Techniques)\n",
        "#Ham histogram probabilities\n",
        "for word, count in ham.items():\n",
        "  ham[word] = (count/lenHam)\n",
        "#Spam histogram probabilities\n",
        "for word, count in spam.items():\n",
        "  spam[word] = (count/lenSpam)\n",
        "\n",
        "#Finally sort the dictionaries by values in decending order (highest weighting first)\n",
        "#and keep the items with the top 25 weightings.\n",
        "#Note, you should experiment with keeping different amounts of items.\n",
        "ham = dict(sorted(ham.items(), key=lambda item: item[1], reverse=True)[:25])\n",
        "print(ham)\n",
        "spam = dict(sorted(spam.items(), key=lambda item: item[1], reverse=True)[:25])\n",
        "print(spam)"
      ],
      "metadata": {
        "id": "S28NAQX_ttMG",
        "colab": {
          "base_uri": "https://localhost:8080/"
        },
        "outputId": "48860ebf-1eec-41a3-a02f-235a0ecc2be7"
      },
      "execution_count": null,
      "outputs": [
        {
          "output_type": "stream",
          "name": "stdout",
          "text": [
            "{'you': 0.029119836520216026, 'the': 0.020118717462170973, 'and': 0.014742373376149467, 'for': 0.009511993382961124, 'that': 0.007979370408212913, 'have': 0.0071279132000194615, 'your': 0.007079258502408407, 'not': 0.0063980927358536464, 'are': 0.006252128643020483, '&lt;#&gt;': 0.005619617574076777, 'will': 0.005497980830049141, 'but': 0.005497980830049141, 'get': 0.005473653481243614, \"I'm\": 0.005206052644382815, 'can': 0.005035761202744125, 'with': 0.004792487714688853, 'when': 0.004524886877828055, 'like': 0.00430594073857831, 'got': 0.003941030506495402, 'know': 0.003941030506495402, 'come': 0.003916703157689875, 'all': 0.0038437211112732936, 'just': 0.0038193937624677664, 'You': 0.003795066413662239, 'call': 0.0037220843672456576}\n",
            "{'call': 0.012540276931115563, 'your': 0.012453191674649481, 'the': 0.01201776539231908, 'you': 0.01166942436645476, 'for': 0.011146912827658277, 'and': 0.009492292954802752, 'Call': 0.009405207698336672, 'have': 0.00862144039014195, 'from': 0.007663502569015066, 'with': 0.007053905773752504, 'FREE': 0.006357223722023861, 'are': 0.005399285900896978, 'You': 0.005312200644430898, 'our': 0.005225115387964817, 'now': 0.005138030131498737, 'text': 0.005138030131498737, 'mobile': 0.004963859618566577, 'Txt': 0.004789689105634416, 'claim': 0.004702603849168336, 'txt': 0.004615518592702255, 'reply': 0.004528433336236175, 'Your': 0.0044413480797700945, 'free': 0.0037446660280414526, 'contact': 0.0037446660280414526, 'just': 0.0037446660280414526}\n"
          ]
        }
      ]
    },
    {
      "cell_type": "code",
      "source": [
        "#Make predictions\n",
        "#def predict(text):\n",
        "#Input: test message text\n",
        "#Return: 'ham' or 'spam' label\n",
        "\n",
        "# Loop over words in test message\n",
        "#   if not stopword (<4 char) then accumulate wanted or unwanted probabilities\n",
        "# Note, for this implementation, if the word is not in the ham or spam dictionary,\n",
        "# just ignore it, i.e. don't multiply in a 0 probability to avoid the zero frequency problem.\n",
        "# If the wanted score > unwanted score then return 'ham', else return 'spam'\n",
        "\n",
        "#YOUR CODE HERE\n",
        "\n",
        "def predict(text):\n",
        "  w_score = 0\n",
        "  u_score = 0\n",
        "  for word in text.split():\n",
        "    if len(word) > 2:\n",
        "      if word in ham:\n",
        "        w_score += ham[word]\n",
        "      if word in spam:\n",
        "        u_score += spam[word]\n",
        "\n",
        "  #Compare w_score against u_score and return 'ham' or 'spam' label\n",
        "  if w_score > u_score:\n",
        "    return 'ham'\n",
        "  else:\n",
        "    return 'spam'\n"
      ],
      "metadata": {
        "id": "ZMEkZLt34NaV"
      },
      "execution_count": null,
      "outputs": []
    },
    {
      "cell_type": "code",
      "source": [
        "#Test the model\n",
        "#Loop over the test dataset\n",
        "#  extract an example (row) and pass the text field to the predict function\n",
        "#  if the returned label matches the example label then increment the correct\n",
        "#Calculate a percent correct\n",
        "\n",
        "#YOUR CODE HERE\n",
        "\n",
        "correct = 0\n",
        "for i in range(len(test)):\n",
        "  email = test.iloc[i]['text']\n",
        "  if predict(email) == test.iloc[i]['label']:\n",
        "    correct += 1\n",
        "\n",
        "\n",
        "print((correct/len(test))*100)"
      ],
      "metadata": {
        "id": "QvZCIvJ96Xt2",
        "colab": {
          "base_uri": "https://localhost:8080/"
        },
        "outputId": "08f34e6f-8ba5-4b69-cfad-b98013f0c70c"
      },
      "execution_count": null,
      "outputs": [
        {
          "output_type": "stream",
          "name": "stdout",
          "text": [
            "61.0062893081761\n"
          ]
        }
      ]
    },
    {
      "cell_type": "markdown",
      "source": [
        "**Enter your model performance and reflections here.**\n",
        ".\n",
        ".\n",
        ".\n",
        "\n",
        "\n"
      ],
      "metadata": {
        "id": "FJkhJPEGFU3k"
      }
    },
    {
      "cell_type": "markdown",
      "source": [
        "length of stopword | % correct\n",
        "\n",
        "\n",
        "2         |  61\n",
        "\n",
        "3         |  32.9\n",
        "\n",
        "4         |  16.4"
      ],
      "metadata": {
        "id": "hjpO42gll-c9"
      }
    },
    {
      "cell_type": "markdown",
      "source": [
        "# Naive Bayes Gaussian Classifier (from scratch) - Part 3\n",
        "\n",
        "Create a Colab script which uses a Naive Bayes classifier to predict one of the 3 species of flowers based on input attributes from the Iris dataset.\n",
        "Note, you may NOT use any machine learning libraries (e.g. sklearn) for this section.\n",
        "- Create an 80/20 split of the dataset (provided)\n",
        "- Generate the Gaussian distributions for each of your attributes in each of the classes (species) for your training data\n",
        "- Use the test data to predict the species\n",
        "- Calculate and record the accuracy of your classifier\n",
        "- The Iris dataset has been provided as materials for this assignment, however for testing purposes, please run the provided cell which accesses the dataset directly and performs a train/test split on the data (this is the only use of a sklearn function in this section).\n",
        "\n",
        "Summary of lecture notes:\n",
        "- Generate an initial guess (prior probabilities) for each of the classes based on the number of examples for each class, e.g.\n",
        " - P(Setosa) = 50/150\n",
        " - P(Versicolor) = 50/150\n",
        " - P(Virginica) = 50/150\n",
        "Note, depending on your train/test split, the initial guess probabilities may be different\n",
        "- Calculate the score for each of the classes, e.g.\n",
        "\n",
        "*SetosaScore =  P(Setosa) * g(SepalLength | Setosa) * g(SepalWidth | Setosa) * g(PetalLength | Setosa) * g(PetalWidth | Setosa)*\n",
        "etc.\n",
        "\n",
        "where:\n",
        "$$g(x)= \\frac{1}{\\sigma \\sqrt(2\\pi)}exp(-\\frac{1}{2}\\frac{(x-\\mu)^2}{\\sigma^2}) $$\n",
        "\n"
      ],
      "metadata": {
        "id": "18fu0xueE5YS"
      }
    },
    {
      "cell_type": "code",
      "source": [
        "#Load the dataset into a Pandas dataframe and split the data.\n",
        "#The cell has been provided to set up a random seed for testing purposes.\n",
        "#Please do NOT alter the code.\n",
        "import pandas as pd\n",
        "import numpy as np\n",
        "from sklearn.model_selection import train_test_split\n",
        "\n",
        "csv_url = 'https://archive.ics.uci.edu/ml/machine-learning-databases/iris/iris.data'\n",
        "df = pd.read_csv(csv_url, names=['sepal_length', 'sepal_width', 'petal_length', 'petal_width', 'species'])\n",
        "#print(df.head())\n",
        "\n",
        "\n",
        "feature_cols = ['sepal_length', 'sepal_width', 'petal_length', 'petal_width']\n",
        "for col in feature_cols:\n",
        "  df[col] = pd.to_numeric(df[col])\n",
        "\n",
        "X_train, X_test, y_train, y_test = train_test_split(df[feature_cols], df['species'], test_size=0.2, random_state=1)\n",
        "#print(X_train)\n",
        "#print(y_train)"
      ],
      "metadata": {
        "id": "muBA6nPdi_kT"
      },
      "execution_count": null,
      "outputs": []
    },
    {
      "cell_type": "code",
      "source": [
        "print(df.shape)"
      ],
      "metadata": {
        "colab": {
          "base_uri": "https://localhost:8080/"
        },
        "id": "d3UnuxpNKO8-",
        "outputId": "f2219346-9a34-4204-a12f-4d4d743805c2"
      },
      "execution_count": null,
      "outputs": [
        {
          "output_type": "stream",
          "name": "stdout",
          "text": [
            "(150, 5)\n"
          ]
        }
      ]
    },
    {
      "cell_type": "code",
      "source": [
        "#Calculate the mean and standard deviation of the training set\n",
        "#Hint: https://pandas.pydata.org/docs/reference/api/pandas.DataFrame.groupby.html\n",
        "#Hint: https://pandas.pydata.org/docs/reference/api/pandas.DataFrame.mean.html\n",
        "\n",
        "\n",
        "grouped = X_train.groupby(y_train)\n",
        "\n",
        "train_mean = grouped.mean()\n",
        "train_std = grouped.std()\n",
        "\n",
        "\n",
        "#-------------------------------------------------------------------------------------------------\n",
        "#Test with the following doctest test vectors.\n",
        "#DO NOT EDIT THE TEST CODE!!!!\n",
        "\n",
        "\n",
        "import doctest\n",
        "\"\"\"\n",
        "   >>> print(np.round(train_mean['petal_length']['Iris-setosa'], 4))\n",
        "   1.4692\n",
        "   >>> print(np.round(train_std['petal_length']['Iris-setosa'], 4))\n",
        "   0.1608\n",
        "   >>> print(np.round(train_mean['sepal_width']['Iris-virginica'], 4))\n",
        "   2.9523\n",
        "   >>> print(np.round(train_std['sepal_width']['Iris-virginica'], 4))\n",
        "   0.3069\n",
        "\"\"\"\n",
        "doctest.testmod()\n"
      ],
      "metadata": {
        "id": "6CJsKxG2U5Kc",
        "colab": {
          "base_uri": "https://localhost:8080/"
        },
        "outputId": "2e220400-d311-49b0-b910-70d0d65d99ca"
      },
      "execution_count": null,
      "outputs": [
        {
          "output_type": "execute_result",
          "data": {
            "text/plain": [
              "TestResults(failed=0, attempted=4)"
            ]
          },
          "metadata": {},
          "execution_count": 9
        }
      ]
    },
    {
      "cell_type": "code",
      "source": [
        "#Prediction\n",
        "#  def predict(example):\n",
        "#    init best_score and best_species\n",
        "#    loop over each of the species\n",
        "#       set initial species_score (prior probability)\n",
        "#       loop over the feature_cols (defined in the provided cell)\n",
        "#           extract the mean and std for the species feature\n",
        "#           calculate the species_score (accumulate probability products)\n",
        "#       if species_score > best_score\n",
        "#           update best_score and best_species\n",
        "#     return best_species\n",
        "\n",
        "import math\n",
        "\n",
        "def predict(example):\n",
        "  best_score = -1\n",
        "  best_species = None\n",
        "  for species in train_mean.index:\n",
        "    species_score = 1\n",
        "    for col in feature_cols:\n",
        "      mean = train_mean.loc[species, col]\n",
        "      std = train_std.loc[species, col]\n",
        "\n",
        "      # Calculate the probability using Gaussian distribution\n",
        "      prob = (1 / (np.sqrt(2 * np.pi) * std)) * np.exp(-0.5 * ((example[col] - mean) / std) ** 2)\n",
        "\n",
        "      # Accumulate probability products\n",
        "      species_score *= prob\n",
        "    if species_score > best_score:\n",
        "      best_score = species_score\n",
        "      best_species = species\n",
        "  return best_species"
      ],
      "metadata": {
        "id": "qKAB6-feSvQB"
      },
      "execution_count": null,
      "outputs": []
    },
    {
      "cell_type": "code",
      "source": [
        "#Test the classifier\n",
        "\n",
        "#-------------------------------------------------------------------------------------------------\n",
        "#Test with the following doctest test vectors.\n",
        "#DO NOT EDIT THE TEST CODE!!!!\n",
        "\n",
        "t = 0\n",
        "for i in range(len(X_test)):\n",
        "  test_example = X_test.iloc[i]\n",
        "  #print(test_example)\n",
        "  pred = predict(test_example)\n",
        "  actual = y_test.iloc[i]\n",
        "  if pred == actual:\n",
        "    t+=1\n",
        "\n",
        "\n",
        "import doctest\n",
        "\"\"\"\n",
        "   >>> print(np.round(t/len(X_test), 4))\n",
        "   0.9667\n",
        "\"\"\"\n",
        "\n",
        "doctest.testmod()\n"
      ],
      "metadata": {
        "colab": {
          "base_uri": "https://localhost:8080/"
        },
        "id": "mjuPHOBGS5a_",
        "outputId": "49c81112-e945-44fe-e90c-c3fc47687952"
      },
      "execution_count": null,
      "outputs": [
        {
          "output_type": "execute_result",
          "data": {
            "text/plain": [
              "TestResults(failed=0, attempted=1)"
            ]
          },
          "metadata": {},
          "execution_count": 11
        }
      ]
    },
    {
      "cell_type": "markdown",
      "source": [
        "# Naive Bayes Gaussian Classifier (sklearn) - Part 4\n",
        "\n",
        "Repeat Part 3 using Scikit-learn functions:\n",
        "\n",
        "Hint: https://scikit-learn.org/stable/modules/generated/sklearn.naive_bayes.GaussianNB.html"
      ],
      "metadata": {
        "id": "o2pDknYtAqcY"
      }
    },
    {
      "cell_type": "code",
      "source": [
        "from sklearn.model_selection import train_test_split\n",
        "from sklearn.naive_bayes import GaussianNB\n",
        "\n",
        "#Note, use the X_train, X_test, y_train, y_test are from the provided\n",
        "#cell in Part 3\n",
        "\n",
        "#Instantiate the Naive Bayes classifier\n",
        "#Fit the model\n",
        "#Run the predictions\n",
        "#Calculate the score\n",
        "\n",
        "clf = GaussianNB()\n",
        "clf.fit(X_train,y_train)\n",
        "y_pred = clf.predict(X_test)\n",
        "\n",
        "\n",
        "\n",
        "\n",
        "#-------------------------------------------------------------------------------------------------\n",
        "#Test with the following doctest test vectors.\n",
        "#DO NOT EDIT THE TEST CODE!!!!\n",
        "\n",
        "import doctest\n",
        "\"\"\"\n",
        "   >>> print(np.round(clf.score(X_test, y_pred), 4))\n",
        "   1.0\n",
        "\"\"\"\n",
        "\n",
        "doctest.testmod()\n"
      ],
      "metadata": {
        "id": "caDHaC1MS7fj",
        "colab": {
          "base_uri": "https://localhost:8080/"
        },
        "outputId": "e388ecdb-c514-4abc-efdb-8227ee62075f"
      },
      "execution_count": null,
      "outputs": [
        {
          "output_type": "execute_result",
          "data": {
            "text/plain": [
              "TestResults(failed=0, attempted=1)"
            ]
          },
          "metadata": {},
          "execution_count": 13
        }
      ]
    },
    {
      "cell_type": "code",
      "source": [],
      "metadata": {
        "id": "qNNUtyEHSdQu"
      },
      "execution_count": null,
      "outputs": []
    }
  ]
}